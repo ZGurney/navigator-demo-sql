{
 "cells": [
  {
   "cell_type": "code",
   "execution_count": 1,
   "metadata": {},
   "outputs": [],
   "source": [
    "from langchain.document_loaders import PyPDFLoader\n",
    "\n",
    "import os\n",
    "from dotenv import load_dotenv\n"
   ]
  },
  {
   "cell_type": "code",
   "execution_count": 2,
   "metadata": {},
   "outputs": [],
   "source": [
    "load_dotenv()\n",
    "os.environ[\"AZURE_OPENAI_API_KEY\"] = os.getenv(\"AZURE_OAI_KEY\")\n",
    "os.environ[\"AZURE_OPENAI_ENDPOINT\"] = os.getenv(\"AZURE_OAI_ENDPOINT\")"
   ]
  },
  {
   "cell_type": "code",
   "execution_count": 3,
   "metadata": {},
   "outputs": [],
   "source": [
    "from langchain_openai import AzureOpenAIEmbeddings\n",
    "\n",
    "embeddings = AzureOpenAIEmbeddings(\n",
    "    azure_deployment=\"text-embedding\",\n",
    "    openai_api_version=\"2023-05-15\"\n",
    ")\n",
    "\n",
    "# text1 = \"apple\"\n",
    "# text2 = \"banana\"\n",
    "# text3 = \"rain\"\n",
    "\n",
    "# query_result = embeddings.embed_query(text1)\n",
    "# doc_result = embeddings.embed_documents([text1])\n",
    "\n",
    "# print(doc_result[0][:5])"
   ]
  },
  {
   "cell_type": "code",
   "execution_count": 4,
   "metadata": {},
   "outputs": [],
   "source": [
    "# Load a PDF document\n",
    "file_path = \"data/bp-report.pdf\"\n",
    "loader = PyPDFLoader(file_path=file_path)"
   ]
  },
  {
   "cell_type": "code",
   "execution_count": 5,
   "metadata": {},
   "outputs": [
    {
     "name": "stdout",
     "output_type": "stream",
     "text": [
      "page_content=\"Performing while transforming\\nFinancial summary Third Second Third Nine Nine\\nquarter quarter quarter months months\\n$ million 2023 2023 2022 2023 2022\\nProfit (loss) for the period attributable to bp shareholders  4,858  1,792  (2,163)  14,868  (13,290) \\nInventory holding (gains) losses*, net of tax  (1,212)  549  2,186  (211)  (2,085) \\nReplacement cost (RC) profit (loss)*  3,646  2,341  23  14,657  (15,375) \\nNet (favourable) adverse impact of adjusting items*, net of tax  (353)  248  8,127  (3,812)  38,221 \\nUnderlying RC profit*  3,293  2,589  8,150  10,845  22,846 \\nOperating cash flow*  8,747  6,293  8,288  22,662  27,361 \\nCapital expenditure*  (3,603)  (4,314)  (3,194)  (11,542)  (8,961) \\nDivestment and other proceeds (a) 655  88  606  1,543  2,509 \\nSurplus cash flow*  3,107  (269)  3,496  5,121  14,080 \\nNet issue (repurchase) of shares  (2,047)  (2,073)  (2,876)  (6,568)  (6,756) \\nNet debt* (b) 22,324  23,660  22,002  22,324  22,002 \\nAdjusted EBITDA*  10,306  9,770  17,407  33,142  47,647 \\nAnnounced dividend per ordinary share (cents per share)  7.270  7.270  6.006  21.150  17.472 \\nUnderlying RC profit per ordinary share* (cents)  19.14  14.77  43.15  61.83  118.61 \\nUnderlying RC profit per ADS* (dollars)  1.15  0.89  2.59  3.71  7.12 \\n• Underlying RC profit \\n$3.3bn ; Operating \\ncash flow $8.7bn ; Net \\ndebt reduced to \\n$22.3bn• Further $1.5bn \\nshare buyback \\nannounced  • Delivering resilient \\nhydrocarbons - start up \\nof major project* - \\nTangguh Expansion; \\nNorth Sea Murlach \\nproject gets regulatory \\napproval; bpx energy \\nbrings online 'Bingo' \\nfacility• Continued progress \\nto an IEC - first \\nArchaea modular \\nbiogas plant; \\nWoodfibre and OMV \\nLNG agreements \\n \\nThis has been a solid quarter supported by strong underlying operational performance demonstrating our \\ncontinued focus on delivery. Momentum continues to build across our businesses, with recent start-ups \\nincluding Tangguh Expansion, bpx energy’s 'Bingo' central processing facility and Archaea Energy's first \\nmodular biogas plant in Indiana. As we laid out at our investor update in Denver, we remain committed to \\nexecuting our strategy, expect to grow earnings through this decade, and on track to deliver strong returns \\nfor our shareholders.\\nMurray Auchincloss \\nChief executive officer (Interim)\\n(a) Divestment proceeds are disposal proceeds as per the condensed group cash flow statement. See page 3  for more information on other \\nproceeds.\\n(b) See Note 9  for more information.\\nRC profit (loss), underlying RC profit (loss), surplus cash flow, net debt, adjusted EBITDA, underlying RC profit per ordinary share and underlying RC \\nprofit per ADS are non-IFRS measures. Inventory holding (gains) losses and adjusting items are non-IFRS adjustments.\\n* For items marked with an asterisk throughout this document, definitions are provided in the Glossary on page 31 .FOR IMMEDIATE RELEASE\\nLondon 31 October 2023\\nBP p.l.c. Group results\\nThird quarter and nine months 2023\\n1\" metadata={'source': 'bp-report.pdf', 'page': 0}\n"
     ]
    }
   ],
   "source": [
    "# Split the document into chunks\n",
    "pages = loader.load_and_split()\n",
    "print(pages[0])"
   ]
  },
  {
   "cell_type": "code",
   "execution_count": 6,
   "metadata": {},
   "outputs": [],
   "source": [
    "# Create a vector store\n",
    "from langchain.vectorstores import FAISS\n",
    "\n",
    "db = FAISS.from_documents(documents=pages, embedding=embeddings)\n",
    "db.save_local(\"data/faiss_index\")\n"
   ]
  },
  {
   "cell_type": "code",
   "execution_count": 8,
   "metadata": {},
   "outputs": [],
   "source": [
    "from langchain_openai import AzureChatOpenAI\n",
    "\n",
    "llm = AzureChatOpenAI(\n",
    "    deployment_name=os.getenv(\"AZURE_OAI_DEPLOYMENT\"),\n",
    "    model_name=os.getenv(\"AZURE_OAI_MODEL\"),\n",
    "    openai_api_version=\"2023-05-15\",\n",
    "    openai_api_type=\"azure\"\n",
    ")"
   ]
  },
  {
   "cell_type": "code",
   "execution_count": 11,
   "metadata": {},
   "outputs": [
    {
     "name": "stdout",
     "output_type": "stream",
     "text": [
      "<class 'langchain.chains.conversational_retrieval.base.ConversationalRetrievalChain'>\n"
     ]
    }
   ],
   "source": [
    "from langchain.chains import ConversationalRetrievalChain\n",
    "from langchain.chains.question_answering import load_qa_chain\n",
    "\n",
    "# Load FAISS vector store saved locally\n",
    "vectorStore = FAISS.load_local(\"data/faiss_index\", embeddings)\n",
    "\n",
    "# Use the vector store to search the local document\n",
    "retriever = vectorStore.as_retriever(search_type=\"similarity\", search_kwargs={\"k\": 2})\n",
    "\n",
    "qa = ConversationalRetrievalChain.from_llm(\n",
    "    llm=llm,\n",
    "    retriever=retriever,\n",
    "    condense_question_prompt=,\n",
    "    return_source_documents=True,\n",
    "    verbose=False\n",
    ")"
   ]
  },
  {
   "cell_type": "code",
   "execution_count": 21,
   "metadata": {},
   "outputs": [
    {
     "name": "stderr",
     "output_type": "stream",
     "text": [
      "2024-02-06 17:28:55.895 \n",
      "  \u001b[33m\u001b[1mWarning:\u001b[0m to view this Streamlit app on a browser, run it with the following\n",
      "  command:\n",
      "\n",
      "    streamlit run /Users/z.gurney/miniconda3/envs/ml-test/lib/python3.10/site-packages/ipykernel_launcher.py [ARGUMENTS]\n"
     ]
    }
   ],
   "source": [
    "import streamlit as st\n",
    "\n",
    "# Process user query and get response\n",
    "def ask_question_with_context(qa, question, chat_history):\n",
    "    result = qa({\"question\": question, \"chat_history\": chat_history})\n",
    "    chat_history.append((question, result[\"answer\"]))\n",
    "    return chat_history\n",
    "\n",
    "user_query = st.text_input(\"Ask a question:\")\n",
    "\n",
    "chat_history = []\n",
    "if st.button(\"Submit\"):\n",
    "    if user_query:\n",
    "        st.write(\"User Query:\", user_query)\n",
    "        chat_history = ask_question_with_context(qa, user_query, chat_history)\n",
    "        response = chat_history[-1][1] if chat_history else \"No response\"\n",
    "        st.write(\"Answer:\", response)"
   ]
  },
  {
   "cell_type": "code",
   "execution_count": null,
   "metadata": {},
   "outputs": [],
   "source": []
  }
 ],
 "metadata": {
  "kernelspec": {
   "display_name": "ml-test",
   "language": "python",
   "name": "python3"
  },
  "language_info": {
   "codemirror_mode": {
    "name": "ipython",
    "version": 3
   },
   "file_extension": ".py",
   "mimetype": "text/x-python",
   "name": "python",
   "nbconvert_exporter": "python",
   "pygments_lexer": "ipython3",
   "version": "3.10.13"
  }
 },
 "nbformat": 4,
 "nbformat_minor": 2
}
